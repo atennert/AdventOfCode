{
 "cells": [
  {
   "cell_type": "code",
   "execution_count": null,
   "metadata": {
    "collapsed": true
   },
   "outputs": [],
   "source": [
    "import kotlin.io.path.Path\n",
    "import kotlin.io.path.readLines\n",
    "\n",
    "val numReg = Regex(\"(\\\\d)\")\n",
    "\n",
    "val sum = Path(\"input.txt\").readLines()\n",
    "    .map { numReg.findAll(it).toList() }\n",
    "    .sumOf { \"${it.first().value}${it.last().value}\".toInt() }\n",
    "\n",
    "sum"
   ]
  },
  {
   "cell_type": "code",
   "execution_count": null,
   "outputs": [],
   "source": [
    "val targets = setOf(\"1\", \"2\", \"3\", \"4\", \"5\", \"6\", \"7\", \"8\", \"9\", \"one\", \"two\", \"three\", \"four\", \"five\", \"six\", \"seven\", \"eight\", \"nine\")\n",
    "val conversion = mapOf(\n",
    "    \"one\" to \"1\",\n",
    "    \"two\" to \"2\",\n",
    "    \"three\" to \"3\",\n",
    "    \"four\" to \"4\",\n",
    "    \"five\" to \"5\",\n",
    "    \"six\" to \"6\",\n",
    "    \"seven\" to \"7\",\n",
    "    \"eight\" to \"8\",\n",
    "    \"nine\" to \"9\",\n",
    ")\n",
    "\n",
    "fun nmap(s: String) = conversion[s] ?: s\n",
    "\n",
    "val sum = Path(\"input.txt\").readLines()\n",
    "    .map { it.findAnyOf(targets)!!.second to it.findLastAnyOf(targets)!!.second }\n",
    "    .sumOf { \"${nmap(it.first)}${nmap(it.second)}\".toInt() }\n",
    "\n",
    "sum"
   ],
   "metadata": {
    "collapsed": false
   }
  }
 ],
 "metadata": {
  "kernelspec": {
   "display_name": "Kotlin",
   "language": "kotlin",
   "name": "kotlin"
  },
  "language_info": {
   "name": "kotlin",
   "version": "1.9.0",
   "mimetype": "text/x-kotlin",
   "file_extension": ".kt",
   "pygments_lexer": "kotlin",
   "codemirror_mode": "text/x-kotlin",
   "nbconvert_exporter": ""
  },
  "ktnbPluginMetadata": {
   "projectDependencies": [
    "2023"
   ]
  }
 },
 "nbformat": 4,
 "nbformat_minor": 0
}

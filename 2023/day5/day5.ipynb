{
 "cells": [
  {
   "cell_type": "markdown",
   "source": [
    "# Day 5: If You Give A Seed A Fertilizer\n",
    "This looks like a task where we can use the `chain of responsibility`."
   ],
   "metadata": {
    "collapsed": false
   }
  },
  {
   "cell_type": "code",
   "execution_count": null,
   "metadata": {
    "collapsed": true
   },
   "outputs": [],
   "source": [
    "fun interface Rule {\n",
    "    fun map(value: Long): Long\n",
    "}\n",
    "\n",
    "object ForwardRule : Rule {\n",
    "    override fun map(value: Long) = value\n",
    "}\n",
    "\n",
    "data class MappingRule(val sourceStart: Long, val destinationStart: Long, val length: Long, private val rule: Rule) :\n",
    "    Rule {\n",
    "    override fun map(value: Long): Long {\n",
    "        return if (value in sourceStart until sourceStart + length) {\n",
    "            value + destinationStart - sourceStart\n",
    "        } else\n",
    "            rule.map(value)\n",
    "    }\n",
    "}"
   ]
  },
  {
   "cell_type": "markdown",
   "source": [
    "Rules can also be composed."
   ],
   "metadata": {
    "collapsed": false
   }
  },
  {
   "cell_type": "code",
   "execution_count": null,
   "outputs": [],
   "source": [
    "fun Rule.compose(rule: Rule) = Rule { rule.map(this.map(it)) }"
   ],
   "metadata": {
    "collapsed": false
   }
  },
  {
   "cell_type": "markdown",
   "source": [
    "Some regular expressions to help getting the data"
   ],
   "metadata": {
    "collapsed": false
   }
  },
  {
   "cell_type": "code",
   "execution_count": null,
   "outputs": [],
   "source": [
    "val numberRegex = Regex(\"(\\\\d+)\")\n",
    "val mappingTitleRegex = Regex(\"(\\\\w+)-to-(\\\\w+) map:\")"
   ],
   "metadata": {
    "collapsed": false
   }
  },
  {
   "cell_type": "code",
   "execution_count": null,
   "outputs": [],
   "source": [
    "import kotlin.io.path.Path\n",
    "import kotlin.io.path.readLines\n",
    "\n",
    "val lines = Path(\"input.txt\").readLines()"
   ],
   "metadata": {
    "collapsed": false
   }
  },
  {
   "cell_type": "markdown",
   "source": [
    "Reading the seed numbers is rather easy."
   ],
   "metadata": {
    "collapsed": false
   }
  },
  {
   "cell_type": "code",
   "execution_count": null,
   "outputs": [],
   "source": [
    "val seeds = numberRegex.findAll(lines.first())\n",
    "    .map { it.value.toLong() }"
   ],
   "metadata": {
    "collapsed": false
   }
  },
  {
   "cell_type": "code",
   "execution_count": null,
   "outputs": [],
   "source": [
    "val mappings = lines.drop(2)\n",
    "    .fold(mutableMapOf<String, Pair<String, Rule>>() to \"\") { (m, lastKey), line ->\n",
    "        when {\n",
    "            // create a map entry for each section\n",
    "            mappingTitleRegex.matches(line) -> {\n",
    "                val (_, fst, snd) = mappingTitleRegex.find(line)!!.groupValues\n",
    "                m[fst] = snd to ForwardRule\n",
    "                m to fst\n",
    "            }\n",
    "\n",
    "            // setup the chain of responsibilty for each section\n",
    "            line.isNotEmpty() -> {\n",
    "                val (destinationStart, sourceStart, length) =\n",
    "                    numberRegex.findAll(line).map { it.value.toLong() }.toList()\n",
    "                m[lastKey] =\n",
    "                    m[lastKey]!!.first to MappingRule(sourceStart, destinationStart, length, m[lastKey]!!.second)\n",
    "                m to lastKey\n",
    "            }\n",
    "\n",
    "            // blank line, just forward what we have\n",
    "            else -> m to lastKey\n",
    "        }\n",
    "    }.first"
   ],
   "metadata": {
    "collapsed": false
   }
  },
  {
   "cell_type": "markdown",
   "source": [
    "Compose the rules from all sections to get one big rule that we'll run on the seed numbers."
   ],
   "metadata": {
    "collapsed": false
   }
  },
  {
   "cell_type": "code",
   "execution_count": null,
   "outputs": [],
   "source": [
    "var key = \"seed\"\n",
    "var rule: Rule? = null\n",
    "while (mappings.containsKey(key)) {\n",
    "    val (nextKey, nextRule) = mappings[key]!!\n",
    "    key = nextKey\n",
    "    rule = rule?.compose(nextRule) ?: nextRule\n",
    "}"
   ],
   "metadata": {
    "collapsed": false
   }
  },
  {
   "cell_type": "markdown",
   "source": [
    "## Part 1\n",
    "Simply run the rules on all seed numbers and get the minimal result."
   ],
   "metadata": {
    "collapsed": false
   }
  },
  {
   "cell_type": "code",
   "execution_count": null,
   "outputs": [],
   "source": [
    "seeds.map(rule::map).min()"
   ],
   "metadata": {
    "collapsed": false
   }
  },
  {
   "cell_type": "markdown",
   "source": [
    "## Part 2\n",
    "I don't know if this is the most efficient way to do this, but my computer ran it in 3 to 5 minutes, so ... for me an acceptable waiting time. Using sequences here probably helps a lot with memory footprint.\n",
    "\n",
    "I put the seed numbers into chunks and create a sequence from each. All the sequences are combined into one big sequence on which the rules are run again."
   ],
   "metadata": {
    "collapsed": false
   }
  },
  {
   "cell_type": "code",
   "execution_count": null,
   "outputs": [],
   "source": [
    "seeds.chunked(2)\n",
    "    .flatMap { (start, count) -> sequence { yieldAll(start until start + count) } }\n",
    "    .map(rule::map)\n",
    "    .min()"
   ],
   "metadata": {
    "collapsed": false
   }
  }
 ],
 "metadata": {
  "kernelspec": {
   "display_name": "Kotlin",
   "language": "kotlin",
   "name": "kotlin"
  },
  "language_info": {
   "name": "kotlin",
   "version": "1.9.0",
   "mimetype": "text/x-kotlin",
   "file_extension": ".kt",
   "pygments_lexer": "kotlin",
   "codemirror_mode": "text/x-kotlin",
   "nbconvert_exporter": ""
  }
 },
 "nbformat": 4,
 "nbformat_minor": 0
}

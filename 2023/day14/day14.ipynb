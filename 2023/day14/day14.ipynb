{
 "cells": [
  {
   "cell_type": "markdown",
   "source": [
    "# Day 14: Parabolic Reflector Dish"
   ],
   "metadata": {
    "collapsed": false
   }
  },
  {
   "cell_type": "code",
   "execution_count": null,
   "metadata": {
    "collapsed": true
   },
   "outputs": [],
   "source": [
    "import kotlin.io.path.Path\n",
    "import kotlin.io.path.readLines\n",
    "\n",
    "val fields = Path(\"input.txt\").readLines()\n",
    "    .map { it.toCharArray() }\n",
    "    .toTypedArray()"
   ]
  },
  {
   "cell_type": "markdown",
   "source": [
    "## Part 1"
   ],
   "metadata": {
    "collapsed": false
   }
  },
  {
   "cell_type": "code",
   "execution_count": null,
   "outputs": [],
   "source": [
    "fun Array<CharArray>.rearrangeNorth(): Array<CharArray> {\n",
    "    fun findRolingPosition(x: Int, y: Int): Int {\n",
    "        for (i in (y-1) downTo 0) {\n",
    "            if (this[i][x] != '.') {\n",
    "                return i + 1\n",
    "            }\n",
    "        }\n",
    "        return 0\n",
    "    }\n",
    "    \n",
    "    for (y in 1 until size) {\n",
    "        for (x in 0 until this[0].size) {\n",
    "            if (this[y][x] == 'O') {\n",
    "                val targetY = findRolingPosition(x, y)\n",
    "                this[y][x] = '.'\n",
    "                this[targetY][x] = 'O'\n",
    "            }\n",
    "        }\n",
    "    }\n",
    "    return this\n",
    "}"
   ],
   "metadata": {
    "collapsed": false
   }
  },
  {
   "cell_type": "code",
   "execution_count": null,
   "outputs": [],
   "source": [
    "fields.rearrangeNorth()\n",
    "    .mapIndexed { i, line -> line.count { it == 'O' } * (fields.size - i) }\n",
    "    .sum()"
   ],
   "metadata": {
    "collapsed": false
   }
  },
  {
   "cell_type": "markdown",
   "source": [
    "## Part 2"
   ],
   "metadata": {
    "collapsed": false
   }
  },
  {
   "cell_type": "code",
   "execution_count": null,
   "outputs": [],
   "source": [
    "fun Array<CharArray>.rearrangeSouth() {\n",
    "    fun findRolingPosition(x: Int, y: Int): Int {\n",
    "        for (i in (y+1) until size) {\n",
    "            if (this[i][x] != '.') {\n",
    "                return i - 1\n",
    "            }\n",
    "        }\n",
    "        return size - 1\n",
    "    }\n",
    "    \n",
    "    for (y in (size - 2) downTo 0) {\n",
    "        for (x in 0 until this[0].size) {\n",
    "            if (this[y][x] == 'O') {\n",
    "                val targetY = findRolingPosition(x, y)\n",
    "                this[y][x] = '.'\n",
    "                this[targetY][x] = 'O'\n",
    "            }\n",
    "        }\n",
    "    }\n",
    "}\n",
    "\n",
    "fun Array<CharArray>.rearrangeWest() {\n",
    "    fun findRolingPosition(x: Int, y: Int): Int {\n",
    "        for (i in (x-1) downTo 0) {\n",
    "            if (this[y][i] != '.') {\n",
    "                return i + 1\n",
    "            }\n",
    "        }\n",
    "        return 0\n",
    "    }\n",
    "    \n",
    "    for (y in 0 until size) {\n",
    "        for (x in 1 until this[0].size) {\n",
    "            if (this[y][x] == 'O') {\n",
    "                val targetX = findRolingPosition(x, y)\n",
    "                this[y][x] = '.'\n",
    "                this[y][targetX] = 'O'\n",
    "            }\n",
    "        }\n",
    "    }\n",
    "}\n",
    "\n",
    "fun Array<CharArray>.rearrangeEast() {\n",
    "    fun findRolingPosition(x: Int, y: Int): Int {\n",
    "        for (i in (x+1) until size) {\n",
    "            if (this[y][i] != '.') {\n",
    "                return i - 1\n",
    "            }\n",
    "        }\n",
    "        return this[0].size - 1\n",
    "    }\n",
    "    \n",
    "    for (y in 0 until size) {\n",
    "        for (x in (this[0].size - 2) downTo 0) {\n",
    "            if (this[y][x] == 'O') {\n",
    "                val targetX = findRolingPosition(x, y)\n",
    "                this[y][x] = '.'\n",
    "                this[y][targetX] = 'O'\n",
    "            }\n",
    "        }\n",
    "    }\n",
    "}"
   ],
   "metadata": {
    "collapsed": false
   }
  },
  {
   "cell_type": "markdown",
   "source": [
    "Key idea: find the cycle in the run and shortcut it from there"
   ],
   "metadata": {
    "collapsed": false
   }
  },
  {
   "cell_type": "code",
   "execution_count": null,
   "outputs": [],
   "source": [
    "val fields = Path(\"input.txt\").readLines()\n",
    "    .map { it.toCharArray() }\n",
    "    .toTypedArray()\n",
    "\n",
    "val hashes = mutableListOf<Int>()\n",
    "val hashedFields = mutableMapOf<Int, Array<CharArray>>()\n",
    "\n",
    "var result: Array<CharArray>\n",
    "\n",
    "while (true) {\n",
    "    val hash = fields.contentDeepHashCode()\n",
    "    if (hashes.contains(hash) && fields.contentDeepEquals(hashedFields[hash])) {\n",
    "        val index = hashes.indexOf(hash)\n",
    "        val cycleSize = hashes.size - index\n",
    "        val targetHash = hashes[index + (1000000000 - index) % cycleSize]\n",
    "        result = hashedFields[targetHash]!!\n",
    "        break\n",
    "    }\n",
    "    hashes.add(hash)\n",
    "    hashedFields[hash] = Array(fields.size) { fields[it].copyOf() }\n",
    "    \n",
    "    fields.rearrangeNorth()\n",
    "    fields.rearrangeWest()\n",
    "    fields.rearrangeSouth()\n",
    "    fields.rearrangeEast()\n",
    "}\n",
    "\n",
    "result.mapIndexed { i, line -> line.count { it == 'O' } * (fields.size - i) }\n",
    "    .sum()"
   ],
   "metadata": {
    "collapsed": false
   }
  }
 ],
 "metadata": {
  "kernelspec": {
   "display_name": "Kotlin",
   "language": "kotlin",
   "name": "kotlin"
  },
  "language_info": {
   "name": "kotlin",
   "version": "1.9.0",
   "mimetype": "text/x-kotlin",
   "file_extension": ".kt",
   "pygments_lexer": "kotlin",
   "codemirror_mode": "text/x-kotlin",
   "nbconvert_exporter": ""
  }
 },
 "nbformat": 4,
 "nbformat_minor": 0
}

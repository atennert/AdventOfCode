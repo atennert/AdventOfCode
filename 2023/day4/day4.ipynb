{
 "cells": [
  {
   "cell_type": "markdown",
   "source": [
    "# Day 4: Scratchcards"
   ],
   "metadata": {
    "collapsed": false
   }
  },
  {
   "cell_type": "markdown",
   "source": [
    "Again, I'm creating a data class for the elements of the puzzle (today `Card`). This time I put the creation of the element in a factory method in the class itself."
   ],
   "metadata": {
    "collapsed": false
   }
  },
  {
   "cell_type": "code",
   "execution_count": null,
   "outputs": [],
   "source": [
    "data class Card(val id: Int, val winningNumbers: List<Int>, val myNumbers: List<Int>) {\n",
    "    val wins = myNumbers.intersect(winningNumbers).size\n",
    "\n",
    "    companion object {\n",
    "        private val cardRegex = Regex(\"(\\\\d+)\")\n",
    "\n",
    "        fun fromLine(line: String): Card {\n",
    "            val (id, winningNumbers, myNumbers) = line.split(':', '|')\n",
    "                .map { cardRegex.findAll(it).map { it.value.toInt() }.toList() }\n",
    "            return Card(id[0], winningNumbers, myNumbers)\n",
    "        }\n",
    "    }\n",
    "}"
   ],
   "metadata": {
    "collapsed": false
   }
  },
  {
   "cell_type": "markdown",
   "source": [
    "Reading the input:"
   ],
   "metadata": {
    "collapsed": false
   }
  },
  {
   "cell_type": "code",
   "execution_count": null,
   "outputs": [],
   "source": [
    "import kotlin.io.path.Path\n",
    "import kotlin.io.path.readLines\n",
    "\n",
    "val cards = Path(\"input.txt\").readLines()\n",
    "    .map(Card::fromLine)"
   ],
   "metadata": {
    "collapsed": false
   }
  },
  {
   "cell_type": "markdown",
   "source": [
    "## Part 1\n",
    "Bit shifting does essentially the same as using `pow` here but avoids using double or float. We also use the fact that shifting left by a negative amount results in a negative number."
   ],
   "metadata": {
    "collapsed": false
   }
  },
  {
   "cell_type": "code",
   "execution_count": null,
   "outputs": [],
   "source": [
    "cards.sumOf { max(0, 1.shl(it.wins - 1)) }"
   ],
   "metadata": {
    "collapsed": false
   }
  },
  {
   "cell_type": "markdown",
   "source": [
    "## Part 2\n",
    "Here I use card IDs as list index - 1.\n",
    "\n",
    "My initial solution used two nested for loops, summing up the individual card counts in the list first before calculating the overall sum of cards."
   ],
   "metadata": {
    "collapsed": false
   }
  },
  {
   "cell_type": "code",
   "execution_count": null,
   "outputs": [],
   "source": [
    "val cardCounts = MutableList(cards.size) { 1 }\n",
    "\n",
    "for (card in cards) {\n",
    "    for (i in 0 until card.wins) {\n",
    "        cardCounts[card.id + i] += cardCounts[card.id - 1]\n",
    "    }\n",
    "}\n",
    "\n",
    "cardCounts.sum()"
   ],
   "metadata": {
    "collapsed": false
   }
  },
  {
   "cell_type": "markdown",
   "source": [
    "Then I was curious to see if I could do it with lambdas. So here is a second version utilizing `fold`, which calculates the overall sum and reduces the list of card counts on the go."
   ],
   "metadata": {
    "collapsed": false
   }
  },
  {
   "cell_type": "code",
   "execution_count": null,
   "outputs": [],
   "source": [
    "cards.fold(0 to MutableList(cards.size) { 1 }) { (sum, cardCounts), card ->\n",
    "    val currentCardCount = cardCounts.removeFirst()\n",
    "    (0 until card.wins).forEach { cardCounts[it] += currentCardCount }\n",
    "    sum + currentCardCount to cardCounts\n",
    "}.first"
   ],
   "metadata": {
    "collapsed": false
   }
  }
 ],
 "metadata": {
  "kernelspec": {
   "display_name": "Kotlin",
   "language": "kotlin",
   "name": "kotlin"
  },
  "language_info": {
   "name": "kotlin",
   "version": "1.9.0",
   "mimetype": "text/x-kotlin",
   "file_extension": ".kt",
   "pygments_lexer": "kotlin",
   "codemirror_mode": "text/x-kotlin",
   "nbconvert_exporter": ""
  }
 },
 "nbformat": 4,
 "nbformat_minor": 0
}

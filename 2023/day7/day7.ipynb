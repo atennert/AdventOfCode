{
 "cells": [
  {
   "cell_type": "markdown",
   "source": [
    "# Day 7: Camel Cards\n",
    "The basis for today's code is the ranking of types of the cards on a hand as well as the ranking of the cards.\n",
    "\n",
    "The ranking of the types of hands is done via an enum and the values ordinals. The biggest part of the code was getting the enum value from the given cards, due to the different handling in case 2."
   ],
   "metadata": {
    "collapsed": false
   }
  },
  {
   "cell_type": "code",
   "execution_count": null,
   "metadata": {
    "collapsed": true
   },
   "outputs": [],
   "source": [
    "enum class HandType(val counts: List<Int>) {\n",
    "    HighCard(listOf(1, 1, 1, 1, 1)),\n",
    "    OnePair(listOf(1, 1, 1, 2)),\n",
    "    TwoPair(listOf(1, 2, 2)),\n",
    "    ThreeOfAKind(listOf(1, 1, 3)),\n",
    "    FullHouse(listOf(2, 3)),\n",
    "    FourOfAKind(listOf(1, 4)),\n",
    "    FiveOfAKind(listOf(5));\n",
    "    \n",
    "    companion object {\n",
    "        fun fromCards1(cards: List<Char>): HandType {\n",
    "            val cardCounts = cards.groupBy { it }\n",
    "                .map { (_, c) -> c.size }\n",
    "                .sorted()\n",
    "            \n",
    "            return HandType.values()\n",
    "                .first { it.counts == cardCounts }\n",
    "        }\n",
    "        \n",
    "        fun fromCards2(cards: List<Char>): HandType {\n",
    "            val jCount = cards.filter { it == 'J' }.size\n",
    "            val cardCounts = cards.filterNot { it == 'J' }\n",
    "                .groupBy { it }\n",
    "                .map { (_, c) -> c.size }\n",
    "                .sorted()\n",
    "            \n",
    "            val cardCountsWithJ = if (cardCounts.isEmpty())\n",
    "                listOf(jCount)\n",
    "            else\n",
    "                cardCounts.dropLast(1).plus(cardCounts.last() + jCount)\n",
    "            \n",
    "            return HandType.values()\n",
    "                .first { it.counts == cardCountsWithJ }\n",
    "        }\n",
    "    }\n",
    "}"
   ]
  },
  {
   "cell_type": "markdown",
   "source": [
    "Again, we have a class for interpreting the input. Before part 2, this was a `Comparable`. With part 2 I decided to extract the comparing code into a ..."
   ],
   "metadata": {
    "collapsed": false
   }
  },
  {
   "cell_type": "code",
   "execution_count": null,
   "outputs": [],
   "source": [
    "data class Hand(val cards: List<Char>, val bidAmount: Long, val type: HandType)"
   ],
   "metadata": {
    "collapsed": false
   }
  },
  {
   "cell_type": "markdown",
   "source": [
    "... `Comparator` that is referenced directly in the sorting function and can be configured with the right card ranking."
   ],
   "metadata": {
    "collapsed": false
   }
  },
  {
   "cell_type": "code",
   "execution_count": null,
   "outputs": [],
   "source": [
    "class HandComparator(private val cardRanking: List<Char>) : Comparator<Hand> {\n",
    "    override fun compare(h0: Hand, h1: Hand): Int {\n",
    "        if (h0.type != h1.type) {\n",
    "            return h0.type.ordinal - h1.type.ordinal\n",
    "        }\n",
    "        for (i in 0 until h0.cards.size) {\n",
    "            if (h0.cards[i] != h1.cards[i]) {\n",
    "                return cardRanking.indexOf(h0.cards[i]) - cardRanking.indexOf(h1.cards[i])\n",
    "            }\n",
    "        }\n",
    "        return 0\n",
    "    }\n",
    "}"
   ],
   "metadata": {
    "collapsed": false
   }
  },
  {
   "cell_type": "markdown",
   "source": [
    "As usual ... read the input."
   ],
   "metadata": {
    "collapsed": false
   }
  },
  {
   "cell_type": "code",
   "execution_count": null,
   "outputs": [],
   "source": [
    "import kotlin.io.path.Path\n",
    "import kotlin.io.path.readLines\n",
    "\n",
    "val hands = Path(\"input.txt\").readLines()"
   ],
   "metadata": {
    "collapsed": false
   }
  },
  {
   "cell_type": "markdown",
   "source": [
    "Both parts of today's puzzle use the same code but with different configuration."
   ],
   "metadata": {
    "collapsed": false
   }
  },
  {
   "cell_type": "code",
   "execution_count": null,
   "outputs": [],
   "source": [
    "fun solve(cardRanking: List<Char>, getHandType: (List<Char>) -> HandType): Long {\n",
    "    return hands.map { \n",
    "        val (cards, bidAmount) = it.split(' ')\n",
    "        Hand(cards.toList(), bidAmount.toLong(), getHandType(cards.toList()))\n",
    "    }\n",
    "    .sortedWith(HandComparator(cardRanking))\n",
    "    .mapIndexed { i, hand -> hand.bidAmount * (i + 1) }\n",
    "    .sum()\n",
    "}"
   ],
   "metadata": {
    "collapsed": false
   }
  },
  {
   "cell_type": "markdown",
   "source": [
    "## Part 1"
   ],
   "metadata": {
    "collapsed": false
   }
  },
  {
   "cell_type": "code",
   "execution_count": null,
   "outputs": [],
   "source": [
    "solve(\"23456789TJQKA\".toList(), HandType::fromCards1)"
   ],
   "metadata": {
    "collapsed": false
   }
  },
  {
   "cell_type": "markdown",
   "source": [
    "## Part 2"
   ],
   "metadata": {
    "collapsed": false
   }
  },
  {
   "cell_type": "code",
   "execution_count": null,
   "outputs": [],
   "source": [
    "solve(\"J23456789TQKA\".toList(), HandType::fromCards2)"
   ],
   "metadata": {
    "collapsed": false
   }
  }
 ],
 "metadata": {
  "kernelspec": {
   "display_name": "Kotlin",
   "language": "kotlin",
   "name": "kotlin"
  },
  "language_info": {
   "name": "kotlin",
   "version": "1.9.0",
   "mimetype": "text/x-kotlin",
   "file_extension": ".kt",
   "pygments_lexer": "kotlin",
   "codemirror_mode": "text/x-kotlin",
   "nbconvert_exporter": ""
  }
 },
 "nbformat": 4,
 "nbformat_minor": 0
}

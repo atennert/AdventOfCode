{
 "cells": [
  {
   "cell_type": "markdown",
   "source": [
    "# Day 3: Gear Ratios\n",
    "\n",
    "My way of going about the task was to check for symbols in the adjacent cells of the engine parts."
   ],
   "metadata": {
    "collapsed": false
   }
  },
  {
   "cell_type": "markdown",
   "source": [
    "Let's define some container types for the puzzle elements."
   ],
   "metadata": {
    "collapsed": false
   }
  },
  {
   "cell_type": "code",
   "execution_count": null,
   "outputs": [],
   "source": [
    "data class EnginePart(val x1: Int, val x2: Int, val y: Int, val number: Int) {\n",
    "    val adjacent\n",
    "        get() = (x1 - 1..x2 + 1)\n",
    "            .flatMap { x -> listOf(x to y - 1, x to y + 1) }\n",
    "            .plus(x1 - 1 to y)\n",
    "            .plus(x2 + 1 to y)\n",
    "}\n",
    "\n",
    "data class Symbol(val x: Int, val y: Int, val c: Char)"
   ],
   "metadata": {
    "collapsed": false
   }
  },
  {
   "cell_type": "markdown",
   "source": [
    "We store all elements for both parts of the puzzle."
   ],
   "metadata": {
    "collapsed": false
   }
  },
  {
   "cell_type": "code",
   "execution_count": null,
   "outputs": [],
   "source": [
    "val parts = mutableSetOf<EnginePart>()\n",
    "val symbols = mutableListOf<Symbol>()"
   ],
   "metadata": {
    "collapsed": false
   }
  },
  {
   "cell_type": "markdown",
   "source": [
    "Here is the code for reading the input."
   ],
   "metadata": {
    "collapsed": false
   }
  },
  {
   "cell_type": "code",
   "execution_count": null,
   "outputs": [],
   "source": [
    "import kotlin.io.path.Path\n",
    "import kotlin.io.path.readLines\n",
    "\n",
    "val numberRegex = Regex(\"\\\\d+\")\n",
    "val symbolRegex = Regex(\"[^\\\\d.]\")\n",
    "\n",
    "fun readLine(index: Int, line: String) {\n",
    "    parts.addAll(numberRegex.findAll(line)\n",
    "        .map { EnginePart(it.range.first, it.range.last, index, it.value.toInt()) })\n",
    "\n",
    "    symbols.addAll(symbolRegex.findAll(line)\n",
    "        .map { Symbol(it.range.first, index, it.value[0]) })\n",
    "}\n",
    "\n",
    "Path(\"input.txt\").readLines()\n",
    "    .forEachIndexed(::readLine)"
   ],
   "metadata": {
    "collapsed": false
   }
  },
  {
   "cell_type": "markdown",
   "source": [
    "## Part 1\n",
    "\n",
    "Find all the parts with adjacent symbols and add the numbers."
   ],
   "metadata": {
    "collapsed": false
   }
  },
  {
   "cell_type": "code",
   "execution_count": null,
   "outputs": [],
   "source": [
    "parts.filter {\n",
    "    it.adjacent.any { (xp, yp) ->\n",
    "        symbols.any { (xs, ys) -> xs == xp && ys == yp }\n",
    "    }\n",
    "}\n",
    "    .sumOf { it.number }"
   ],
   "metadata": {
    "collapsed": false
   }
  },
  {
   "cell_type": "markdown",
   "source": [
    "## Part 2\n",
    "\n",
    "Find all the `*` symbols. Then find the parts for each of these symbols that have them adjacent. Filter the ones with two parts, multiply the two and sum them all up."
   ],
   "metadata": {
    "collapsed": false
   }
  },
  {
   "cell_type": "code",
   "execution_count": null,
   "outputs": [],
   "source": [
    "symbols\n",
    "    .filter { it.c == '*' }\n",
    "    .map { (xs, ys) ->\n",
    "        parts.filter {\n",
    "            it.adjacent.any { (xp, yp) -> xs == xp && ys == yp }\n",
    "        }\n",
    "    }\n",
    "    .filter { it.size == 2 }\n",
    "    .sumOf { it[0].number * it[1].number }"
   ],
   "metadata": {
    "collapsed": false
   }
  }
 ],
 "metadata": {
  "kernelspec": {
   "display_name": "Kotlin",
   "language": "kotlin",
   "name": "kotlin"
  },
  "language_info": {
   "name": "kotlin",
   "version": "1.9.0",
   "mimetype": "text/x-kotlin",
   "file_extension": ".kt",
   "pygments_lexer": "kotlin",
   "codemirror_mode": "text/x-kotlin",
   "nbconvert_exporter": ""
  }
 },
 "nbformat": 4,
 "nbformat_minor": 0
}

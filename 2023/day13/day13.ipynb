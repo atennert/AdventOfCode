{
 "cells": [
  {
   "cell_type": "markdown",
   "source": [
    "# Day 13: Point of Incidence"
   ],
   "metadata": {
    "collapsed": false
   }
  },
  {
   "cell_type": "code",
   "execution_count": null,
   "metadata": {
    "collapsed": true
   },
   "outputs": [],
   "source": [
    "import kotlin.io.path.Path\n",
    "import kotlin.io.path.readLines\n",
    "\n",
    "val fields = Path(\"input.txt\").readLines()\n",
    "    .fold(mutableListOf(mutableListOf<List<Char>>())) { acc, s -> \n",
    "        if (s.isBlank()) {\n",
    "            acc.add(mutableListOf())\n",
    "        } else {\n",
    "            acc.last().add(s.toList())\n",
    "        }\n",
    "        acc\n",
    "    }"
   ]
  },
  {
   "cell_type": "markdown",
   "source": [
    "Transposing allows us to use the same code for finding the mirror line in x and y direction."
   ],
   "metadata": {
    "collapsed": false
   }
  },
  {
   "cell_type": "code",
   "execution_count": null,
   "outputs": [],
   "source": [
    "fun List<List<Char>>.transpose() = List(this[0].size) { i -> List(this.size) { j -> this[j][i] } }"
   ],
   "metadata": {
    "collapsed": false
   }
  },
  {
   "cell_type": "markdown",
   "source": [
    "## Part 1\n",
    "We work on lists, because we can compare whole lines in part 1. This doesn't work with arrays, because they are compared by reference."
   ],
   "metadata": {
    "collapsed": false
   }
  },
  {
   "cell_type": "code",
   "execution_count": null,
   "outputs": [],
   "source": [
    "fun findMirrorLine(field: List<List<Char>>): Int {\n",
    "    outer@for (i in 1 until field.size) {\n",
    "        if (field[i] == field[i-1]) {\n",
    "            for (j in 1 until i) {\n",
    "                if (i+j >= field.size || i-1-j < 0) {\n",
    "                    break\n",
    "                }\n",
    "                if (field[i + j] != field[i - 1 - j]) {\n",
    "                    continue@outer\n",
    "                }\n",
    "            }\n",
    "            return i\n",
    "        }\n",
    "    }\n",
    "    return 0\n",
    "}"
   ],
   "metadata": {
    "collapsed": false
   }
  },
  {
   "cell_type": "code",
   "execution_count": null,
   "outputs": [],
   "source": [
    "val lines1 = fields.map { findMirrorLine(it) to findMirrorLine(it.transpose()) }\n",
    "\n",
    "lines1.sumOf { (row, col) -> row * 100 + col }"
   ],
   "metadata": {
    "collapsed": false
   }
  },
  {
   "cell_type": "markdown",
   "source": [
    "## Part 2\n",
    "In this part we need to adjust the previous search function to ignore the former results and allow for exactly one error. Now we can't compare whole lines anymore, because the error is for only one field."
   ],
   "metadata": {
    "collapsed": false
   }
  },
  {
   "cell_type": "code",
   "execution_count": null,
   "outputs": [],
   "source": [
    "fun findMirrorLine2(field: List<List<Char>>, ignore: Int): Int {\n",
    "    outer@for (i in 1 until field.size) {\n",
    "        // ignore the former result\n",
    "        if (i == ignore) {\n",
    "            continue\n",
    "        }\n",
    "        // smudge option that works as a joker for one error\n",
    "        var smudge = false\n",
    "        for (j in 0 until i) {\n",
    "            if (i+j >= field.size || i-1-j < 0) {\n",
    "                break\n",
    "            }\n",
    "            for (k in (0 until field[i + j].size)) {\n",
    "                if (field[i + j][k] != field[i - 1 - j][k]) {\n",
    "                    if (!smudge) {\n",
    "                        smudge = true\n",
    "                    } else {\n",
    "                        continue@outer\n",
    "                    }\n",
    "                }\n",
    "            }\n",
    "        }\n",
    "        return i\n",
    "    }\n",
    "    return 0\n",
    "}"
   ],
   "metadata": {
    "collapsed": false
   }
  },
  {
   "cell_type": "code",
   "execution_count": null,
   "outputs": [],
   "source": [
    "fields.zip(lines1)\n",
    "    .map { (f, line) -> findMirrorLine2(f, line.first) to findMirrorLine2(f.transpose(), line.second) }\n",
    "    .sumOf { (row, col) -> row * 100 + col }"
   ],
   "metadata": {
    "collapsed": false
   }
  }
 ],
 "metadata": {
  "kernelspec": {
   "display_name": "Kotlin",
   "language": "kotlin",
   "name": "kotlin"
  },
  "language_info": {
   "name": "kotlin",
   "version": "1.9.0",
   "mimetype": "text/x-kotlin",
   "file_extension": ".kt",
   "pygments_lexer": "kotlin",
   "codemirror_mode": "text/x-kotlin",
   "nbconvert_exporter": ""
  }
 },
 "nbformat": 4,
 "nbformat_minor": 0
}

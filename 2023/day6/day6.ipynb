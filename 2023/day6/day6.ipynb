{
 "cells": [
  {
   "cell_type": "markdown",
   "source": [
    "# Day 6: Wait For It\n",
    "Core BF logic: iterate over all solutions, filter the right ones and count them."
   ],
   "metadata": {
    "collapsed": false
   }
  },
  {
   "cell_type": "code",
   "execution_count": null,
   "outputs": [],
   "source": [
    "fun count(time: Long, distance: Long): Int {\n",
    "    return (1L until time)\n",
    "        .filter { charge -> (time - charge) * charge > distance }\n",
    "        .count()\n",
    "}"
   ],
   "metadata": {
    "collapsed": false
   }
  },
  {
   "cell_type": "markdown",
   "source": [
    "Reading the input ..."
   ],
   "metadata": {
    "collapsed": false
   }
  },
  {
   "cell_type": "code",
   "execution_count": null,
   "metadata": {
    "collapsed": true
   },
   "outputs": [],
   "source": [
    "import kotlin.io.path.Path\n",
    "import kotlin.io.path.readLines\n",
    "\n",
    "val numberRegex = Regex(\"(\\\\d+)\")\n",
    "\n",
    "val (times, distances) = Path(\"input.txt\").readLines()\n",
    "    .map { numberRegex.findAll(it).map { it.value } }"
   ]
  },
  {
   "cell_type": "markdown",
   "source": [
    "## Part 1\n",
    "Evaluate values separately ..."
   ],
   "metadata": {
    "collapsed": false
   }
  },
  {
   "cell_type": "code",
   "execution_count": null,
   "outputs": [],
   "source": [
    "times.zip(distances)\n",
    "    .map { (time, distance) -> time.toLong() to distance.toLong() }\n",
    "    .map { (time, distance) -> count(time, distance) }\n",
    "    .reduce(Int::times)"
   ],
   "metadata": {
    "collapsed": false
   }
  },
  {
   "cell_type": "markdown",
   "source": [
    "## Part 2\n",
    "Combine values to one long value."
   ],
   "metadata": {
    "collapsed": false
   }
  },
  {
   "cell_type": "code",
   "execution_count": null,
   "outputs": [],
   "source": [
    "val bigTime = times.joinToString(\"\").toLong()\n",
    "val bigDistance = distances.joinToString(\"\").toLong()\n",
    "\n",
    "count(bigTime, bigDistance)"
   ],
   "metadata": {
    "collapsed": false
   }
  }
 ],
 "metadata": {
  "kernelspec": {
   "display_name": "Kotlin",
   "language": "kotlin",
   "name": "kotlin"
  },
  "language_info": {
   "name": "kotlin",
   "version": "1.9.0",
   "mimetype": "text/x-kotlin",
   "file_extension": ".kt",
   "pygments_lexer": "kotlin",
   "codemirror_mode": "text/x-kotlin",
   "nbconvert_exporter": ""
  }
 },
 "nbformat": 4,
 "nbformat_minor": 0
}

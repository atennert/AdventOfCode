{
 "cells": [
  {
   "cell_type": "markdown",
   "source": [
    "# Day 8: Haunted Wasteland"
   ],
   "metadata": {
    "collapsed": false
   }
  },
  {
   "cell_type": "code",
   "execution_count": null,
   "metadata": {
    "collapsed": true
   },
   "outputs": [],
   "source": [
    "import kotlin.io.path.Path\n",
    "import kotlin.io.path.readLines\n",
    "\n",
    "val lines = Path(\"input.txt\").readLines()"
   ]
  },
  {
   "cell_type": "markdown",
   "source": [
    "Working directly on the rl instructions string."
   ],
   "metadata": {
    "collapsed": false
   }
  },
  {
   "cell_type": "code",
   "execution_count": null,
   "outputs": [],
   "source": [
    "val rl = lines[0]"
   ],
   "metadata": {
    "collapsed": false
   }
  },
  {
   "cell_type": "markdown",
   "source": [
    "Read all the node map information into a map."
   ],
   "metadata": {
    "collapsed": false
   }
  },
  {
   "cell_type": "code",
   "execution_count": null,
   "outputs": [],
   "source": [
    "val nodeRegex = Regex(\"[A-Z]{3}\")\n",
    "val nodeMap = lines.drop(2)\n",
    "    .map { nodeRegex.findAll(it).map { it.value }.toList() }\n",
    "    .fold(mutableMapOf<String, Pair<String, String>>()) { nodeMap, nodeEntry ->\n",
    "        nodeMap[nodeEntry[0]] = nodeEntry[1] to nodeEntry[2]\n",
    "        nodeMap\n",
    "    }"
   ],
   "metadata": {
    "collapsed": false
   }
  },
  {
   "cell_type": "markdown",
   "source": [
    "Find the required amount of steps to reach a target."
   ],
   "metadata": {
    "collapsed": false
   }
  },
  {
   "cell_type": "code",
   "execution_count": null,
   "outputs": [],
   "source": [
    "fun getStepCount(startNode: String, check: (String) -> Boolean): Long {\n",
    "    var node = startNode\n",
    "    var i = 0\n",
    "    var steps = 0L\n",
    "    while (!check(node)) {\n",
    "        steps++;\n",
    "        node = if (rl[i] == 'L') nodeMap[node]!!.first else nodeMap[node]!!.second\n",
    "        i = (i + 1) % rl.length\n",
    "    }\n",
    "    return steps\n",
    "}"
   ],
   "metadata": {
    "collapsed": false
   }
  },
  {
   "cell_type": "markdown",
   "source": [
    "## Part 1"
   ],
   "metadata": {
    "collapsed": false
   }
  },
  {
   "cell_type": "code",
   "execution_count": null,
   "outputs": [],
   "source": [
    "getStepCount(\"AAA\") { it == \"ZZZ\" }"
   ],
   "metadata": {
    "collapsed": false
   }
  },
  {
   "cell_type": "markdown",
   "source": [
    "## Part 2\n",
    "Too many combined runs for brute force ... but we can use the LCD of the separate runs."
   ],
   "metadata": {
    "collapsed": false
   }
  },
  {
   "cell_type": "code",
   "execution_count": null,
   "outputs": [],
   "source": [
    "val allSteps = nodeMap.keys.filter { it[2] == 'A' }\n",
    "    .map { getStepCount(it) { it[2] == 'Z' } }\n",
    "\n",
    "allSteps"
   ],
   "metadata": {
    "collapsed": false
   }
  },
  {
   "cell_type": "code",
   "execution_count": null,
   "outputs": [],
   "source": [
    "fun Long.primeFactors(): List<Long> {\n",
    "    val factors = mutableListOf<Long>()\n",
    "    var tmp = this\n",
    "    var i = 2L\n",
    "    while (i <= tmp) {\n",
    "        while (tmp.mod(i) == 0L) {\n",
    "            factors.add(i)\n",
    "            tmp = tmp / i\n",
    "        }\n",
    "        i++\n",
    "    }\n",
    "    return factors\n",
    "}"
   ],
   "metadata": {
    "collapsed": false
   }
  },
  {
   "cell_type": "code",
   "execution_count": null,
   "outputs": [],
   "source": [
    "fun List<Long>.lowestCommonDenominator(): Long {\n",
    "    return this.map { it.primeFactors().groupBy { it }.mapValues { (_, v) -> v.size } }\n",
    "        .reduce { m1, m2 ->\n",
    "            val m = m1.toMutableMap()\n",
    "            for ((prime, count) in m2) {\n",
    "                m[prime] = max(count, m.getOrDefault(prime, 0))\n",
    "            }\n",
    "            m\n",
    "        }\n",
    "        .flatMap { (prime, count) -> List(count) { prime } }\n",
    "        .reduce(Long::times)\n",
    "}"
   ],
   "metadata": {
    "collapsed": false
   }
  },
  {
   "cell_type": "code",
   "execution_count": null,
   "outputs": [],
   "source": [
    "allSteps.lowestCommonDenominator()"
   ],
   "metadata": {
    "collapsed": false
   }
  }
 ],
 "metadata": {
  "kernelspec": {
   "display_name": "Kotlin",
   "language": "kotlin",
   "name": "kotlin"
  },
  "language_info": {
   "name": "kotlin",
   "version": "1.9.0",
   "mimetype": "text/x-kotlin",
   "file_extension": ".kt",
   "pygments_lexer": "kotlin",
   "codemirror_mode": "text/x-kotlin",
   "nbconvert_exporter": ""
  }
 },
 "nbformat": 4,
 "nbformat_minor": 0
}

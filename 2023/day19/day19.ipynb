{
 "cells": [
  {
   "cell_type": "markdown",
   "source": [
    "# Day 19: Aplenty"
   ],
   "metadata": {
    "collapsed": false
   }
  },
  {
   "cell_type": "code",
   "execution_count": null,
   "metadata": {
    "collapsed": true
   },
   "outputs": [],
   "source": [
    "import kotlin.io.path.Path\n",
    "import kotlin.io.path.readLines\n",
    "\n",
    "val data = Path(\"input.txt\").readLines()"
   ]
  },
  {
   "cell_type": "code",
   "execution_count": null,
   "outputs": [],
   "source": [
    "data class Part(val x: Int, val m: Int, val a: Int, val s: Int) {\n",
    "    companion object {\n",
    "        fun fromLine(line: String): Part {\n",
    "            val (x, m, a, s) = line.drop(1).dropLast(1)\n",
    "                .split(',')\n",
    "                .map { it.drop(2).toInt() }\n",
    "            return Part(x, m, a, s)\n",
    "        }\n",
    "    }\n",
    "}\n",
    "\n",
    "data class Rule(val category: Char, val ltGt: Char, val value: Int, val target: String) {\n",
    "    fun matches(part: Part): Boolean {\n",
    "        val partValue = when (category) {\n",
    "            'x' -> part.x\n",
    "            'm' -> part.m\n",
    "            'a' -> part.a\n",
    "            's' -> part.s\n",
    "            else -> throw IllegalArgumentException(\"AAAAAAHHHHH\")\n",
    "        }\n",
    "        return if (ltGt == '>') partValue > value else partValue < value\n",
    "    }\n",
    "\n",
    "    companion object {\n",
    "        fun fromRuleString(ruleString: String): Rule {\n",
    "            val category = ruleString[0]\n",
    "            val ltGt = ruleString[1]\n",
    "            val (value, target) = ruleString.drop(2).split(':')\n",
    "            \n",
    "            return Rule(category, ltGt, value.toInt(), target)\n",
    "        }\n",
    "    }\n",
    "}\n",
    "\n",
    "class Workflow(rulesString: String) {\n",
    "    val rules: List<Rule>\n",
    "    val end: String\n",
    "\n",
    "    init {\n",
    "        val ruleStrings = rulesString.split(',')\n",
    "        end = ruleStrings.last()\n",
    "        rules = ruleStrings.dropLast(1)\n",
    "            .map { Rule.fromRuleString(it) }\n",
    "    }\n",
    "\n",
    "    fun apply(part: Part): String {\n",
    "        for (rule in rules) {\n",
    "            if (rule.matches(part)) {\n",
    "                return rule.target\n",
    "            }\n",
    "        }\n",
    "        return end\n",
    "    }\n",
    "}"
   ],
   "metadata": {
    "collapsed": false
   }
  },
  {
   "cell_type": "markdown",
   "source": [
    "## Part 1"
   ],
   "metadata": {
    "collapsed": false
   }
  },
  {
   "cell_type": "code",
   "execution_count": null,
   "outputs": [],
   "source": [
    "val emptyIndex = data.indexOfFirst { it.isEmpty() }\n",
    "val workflows = data.take(emptyIndex)\n",
    "    .map {\n",
    "        val (name, rules) = it.dropLast(1).split('{')\n",
    "        name to Workflow(rules)\n",
    "    }\n",
    "    .toMap()\n",
    "val parts = data.drop(emptyIndex + 1)\n",
    "    .map { Part.fromLine(it) }"
   ],
   "metadata": {
    "collapsed": false
   }
  },
  {
   "cell_type": "code",
   "execution_count": null,
   "outputs": [],
   "source": [
    "val acceptedParts = mutableListOf<Part>()\n",
    "\n",
    "for (part in parts) {\n",
    "    var target = \"in\"\n",
    "    while (target != \"R\" && target != \"A\") {\n",
    "        target = workflows[target]!!.apply(part)\n",
    "    }\n",
    "    if (target == \"A\") {\n",
    "        acceptedParts.add(part)\n",
    "    }\n",
    "}\n",
    "\n",
    "acceptedParts.sumOf { (x, m, a, s) -> x + m + a + s }"
   ],
   "metadata": {
    "collapsed": false
   }
  },
  {
   "cell_type": "markdown",
   "source": [
    "## Part 2"
   ],
   "metadata": {
    "collapsed": false
   }
  },
  {
   "cell_type": "code",
   "execution_count": null,
   "outputs": [],
   "source": [
    "data class Range(\n",
    "    val sx: Long, val ex: Long,\n",
    "    val sm: Long, val em: Long,\n",
    "    val sa: Long, val ea: Long,\n",
    "    val ss: Long, val es: Long\n",
    ")"
   ],
   "metadata": {
    "collapsed": false
   }
  },
  {
   "cell_type": "code",
   "execution_count": null,
   "outputs": [],
   "source": [
    "fun getValueRanges(s: Long, e: Long, value: Long, op: Char): Pair<Pair<Long, Long>?, Pair<Long, Long>?> {\n",
    "    return if (op == '<') {\n",
    "        val first = if (s >= value) null else s to min(e, value - 1)\n",
    "        val second = if (e < value) null else max(value, s) to e\n",
    "        first to second\n",
    "    } else { // >\n",
    "        val first = if (e <= value) null else max(s, value + 1) to e\n",
    "        val second = if (s > value) null else s to min(value, e)\n",
    "        first to second\n",
    "    }\n",
    "}"
   ],
   "metadata": {
    "collapsed": false
   }
  },
  {
   "cell_type": "code",
   "execution_count": null,
   "outputs": [],
   "source": [
    "fun search(target: String, range: Range): Long {\n",
    "    val workflow = workflows[target]!!\n",
    "    var trackedRange = range\n",
    "    var result = 0L\n",
    "    for (rule in workflow.rules) {\n",
    "        val (matchRange, otherRange) = when (rule.category) {\n",
    "            'x' -> getValueRanges(trackedRange.sx, trackedRange.ex, rule.value.toLong(), rule.ltGt)\n",
    "            'm' -> getValueRanges(trackedRange.sm, trackedRange.em, rule.value.toLong(), rule.ltGt)\n",
    "            'a' -> getValueRanges(trackedRange.sa, trackedRange.ea, rule.value.toLong(), rule.ltGt)\n",
    "            's' -> getValueRanges(trackedRange.ss, trackedRange.es, rule.value.toLong(), rule.ltGt)\n",
    "            else -> throw IllegalArgumentException(\"NOOOOOOOOOOOOOOOOOO\")\n",
    "        }\n",
    "        if (matchRange != null) {\n",
    "            val nextRange = Range(\n",
    "                if (rule.category == 'x') matchRange.first else trackedRange.sx,\n",
    "                if (rule.category == 'x') matchRange.second else trackedRange.ex,\n",
    "                if (rule.category == 'm') matchRange.first else trackedRange.sm,\n",
    "                if (rule.category == 'm') matchRange.second else trackedRange.em,\n",
    "                if (rule.category == 'a') matchRange.first else trackedRange.sa,\n",
    "                if (rule.category == 'a') matchRange.second else trackedRange.ea,\n",
    "                if (rule.category == 's') matchRange.first else trackedRange.ss,\n",
    "                if (rule.category == 's') matchRange.second else trackedRange.es\n",
    "            )\n",
    "            result += when (rule.target) {\n",
    "                \"A\" -> (nextRange.ex - nextRange.sx + 1) *\n",
    "                        (nextRange.em - nextRange.sm + 1) *\n",
    "                        (nextRange.ea - nextRange.sa + 1) *\n",
    "                        (nextRange.es - nextRange.ss + 1)\n",
    "                \"R\" -> 0\n",
    "                else -> search(rule.target, nextRange)\n",
    "            }\n",
    "        }\n",
    "        if (otherRange == null) {\n",
    "            return result\n",
    "        } else {\n",
    "            trackedRange = Range(\n",
    "                if (rule.category == 'x') otherRange.first else trackedRange.sx,\n",
    "                if (rule.category == 'x') otherRange.second else trackedRange.ex,\n",
    "                if (rule.category == 'm') otherRange.first else trackedRange.sm,\n",
    "                if (rule.category == 'm') otherRange.second else trackedRange.em,\n",
    "                if (rule.category == 'a') otherRange.first else trackedRange.sa,\n",
    "                if (rule.category == 'a') otherRange.second else trackedRange.ea,\n",
    "                if (rule.category == 's') otherRange.first else trackedRange.ss,\n",
    "                if (rule.category == 's') otherRange.second else trackedRange.es\n",
    "            )\n",
    "        }\n",
    "    }\n",
    "    result += when (workflow.end) {\n",
    "        \"A\" -> (trackedRange.ex - trackedRange.sx + 1) *\n",
    "                (trackedRange.em - trackedRange.sm + 1) *\n",
    "                (trackedRange.ea - trackedRange.sa + 1) *\n",
    "                (trackedRange.es - trackedRange.ss + 1)\n",
    "\n",
    "        \"R\" -> 0\n",
    "        else -> search(workflow.end, trackedRange)\n",
    "    }\n",
    "    return result\n",
    "}"
   ],
   "metadata": {
    "collapsed": false
   }
  },
  {
   "cell_type": "code",
   "execution_count": null,
   "outputs": [],
   "source": [
    "search(\"in\", Range(1, 4000, 1, 4000, 1, 4000, 1, 4000))"
   ],
   "metadata": {
    "collapsed": false
   }
  }
 ],
 "metadata": {
  "kernelspec": {
   "display_name": "Kotlin",
   "language": "kotlin",
   "name": "kotlin"
  },
  "language_info": {
   "name": "kotlin",
   "version": "1.9.0",
   "mimetype": "text/x-kotlin",
   "file_extension": ".kt",
   "pygments_lexer": "kotlin",
   "codemirror_mode": "text/x-kotlin",
   "nbconvert_exporter": ""
  }
 },
 "nbformat": 4,
 "nbformat_minor": 0
}

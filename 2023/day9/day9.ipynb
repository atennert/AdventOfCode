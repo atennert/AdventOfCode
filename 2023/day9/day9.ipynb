{
 "cells": [
  {
   "cell_type": "markdown",
   "source": [
    "# Day 9: Mirage Maintenance"
   ],
   "metadata": {
    "collapsed": false
   }
  },
  {
   "cell_type": "code",
   "execution_count": null,
   "metadata": {
    "collapsed": true
   },
   "outputs": [],
   "source": [
    "import kotlin.io.path.Path\n",
    "import kotlin.io.path.readLines\n",
    "\n",
    "val histories = Path(\"input.txt\").readLines()\n",
    "    .map { it.split(' ').map(String::toLong) }"
   ]
  },
  {
   "cell_type": "markdown",
   "source": [
    "I decided to go with a recursive approach, because the call stack doesn't get crazy large and it felt more natural. During part 2, I opted for adding the lambda to determine the direction instead of an `if` statement or creating another function, because it is short and looked nicer to me."
   ],
   "metadata": {
    "collapsed": false
   }
  },
  {
   "cell_type": "code",
   "execution_count": null,
   "outputs": [],
   "source": [
    "fun List<Long>.extrapolate(f: (List<Long>, Long) -> Long): Long {\n",
    "    if (all { it == 0L }) {\n",
    "        return 0\n",
    "    }\n",
    "    \n",
    "    val extrapolated = windowed(2) { (a, b) -> b - a }.extrapolate(f)\n",
    "    return f(this, extrapolated)\n",
    "}"
   ],
   "metadata": {
    "collapsed": false
   }
  },
  {
   "cell_type": "markdown",
   "source": [
    "## Part 1"
   ],
   "metadata": {
    "collapsed": false
   }
  },
  {
   "cell_type": "code",
   "execution_count": null,
   "outputs": [],
   "source": [
    "histories.sumOf { it.extrapolate { l, e -> l.last() + e } }"
   ],
   "metadata": {
    "collapsed": false
   }
  },
  {
   "cell_type": "markdown",
   "source": [
    "## Part 2"
   ],
   "metadata": {
    "collapsed": false
   }
  },
  {
   "cell_type": "code",
   "execution_count": null,
   "outputs": [],
   "source": [
    "histories.sumOf { it.extrapolate { l, e -> l.first() - e } }"
   ],
   "metadata": {
    "collapsed": false
   }
  }
 ],
 "metadata": {
  "kernelspec": {
   "display_name": "Kotlin",
   "language": "kotlin",
   "name": "kotlin"
  },
  "language_info": {
   "name": "kotlin",
   "version": "1.9.0",
   "mimetype": "text/x-kotlin",
   "file_extension": ".kt",
   "pygments_lexer": "kotlin",
   "codemirror_mode": "text/x-kotlin",
   "nbconvert_exporter": ""
  }
 },
 "nbformat": 4,
 "nbformat_minor": 0
}

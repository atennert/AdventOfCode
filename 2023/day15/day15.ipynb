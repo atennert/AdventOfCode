{
 "cells": [
  {
   "cell_type": "markdown",
   "source": [
    "# Day 15: Lens Library"
   ],
   "metadata": {
    "collapsed": false
   }
  },
  {
   "cell_type": "code",
   "execution_count": null,
   "metadata": {
    "collapsed": true
   },
   "outputs": [],
   "source": [
    "import kotlin.io.path.Path\n",
    "import kotlin.io.path.readText\n",
    "\n",
    "val initSequence = Path(\"input.txt\").readText()\n",
    "    .split(\",\")"
   ]
  },
  {
   "cell_type": "code",
   "execution_count": null,
   "outputs": [],
   "source": [
    "fun String.hash(): Int {\n",
    "    var currentValue = 0\n",
    "    \n",
    "    for (c in this) {\n",
    "        currentValue += c.code\n",
    "        currentValue *= 17\n",
    "        currentValue %= 256\n",
    "    }\n",
    "    return currentValue\n",
    "}"
   ],
   "metadata": {
    "collapsed": false
   }
  },
  {
   "cell_type": "markdown",
   "source": [
    "## Part 1"
   ],
   "metadata": {
    "collapsed": false
   }
  },
  {
   "cell_type": "code",
   "execution_count": null,
   "outputs": [],
   "source": [
    "initSequence.sumOf { it.hash() }"
   ],
   "metadata": {
    "collapsed": false
   }
  },
  {
   "cell_type": "markdown",
   "source": [
    "## Part 2"
   ],
   "metadata": {
    "collapsed": false
   }
  },
  {
   "cell_type": "code",
   "execution_count": null,
   "outputs": [],
   "source": [
    "val boxes = mutableMapOf<Int, MutableList<Pair<String, Int>>>()\n",
    "\n",
    "fun runInstruction(instruction: String) {\n",
    "    val (label, focalLength) = instruction.split('=', '-')\n",
    "    val box = label.hash()\n",
    "    \n",
    "    if (!boxes.containsKey(box)) {\n",
    "        boxes[box] = mutableListOf()\n",
    "    }\n",
    "\n",
    "    if (instruction.contains('=')) {\n",
    "        val lenses = boxes[box]!!\n",
    "        val lensIndex = lenses.indexOfFirst { it.first == label }\n",
    "        if (lensIndex < 0) {\n",
    "            lenses.add(label to focalLength.toInt())\n",
    "        } else {\n",
    "            lenses.set(lensIndex, label to focalLength.toInt())\n",
    "        }\n",
    "    } else {\n",
    "        boxes[box]!!.removeIf { it.first == label }\n",
    "    }\n",
    "}\n",
    "\n",
    "initSequence.forEach { runInstruction(it) }\n",
    "\n",
    "boxes.flatMap { (box, lenses) -> lenses.mapIndexed { slot, (_, focalLength) -> (box + 1) * (slot + 1) * focalLength } }\n",
    "    .sum()"
   ],
   "metadata": {
    "collapsed": false
   }
  }
 ],
 "metadata": {
  "kernelspec": {
   "display_name": "Kotlin",
   "language": "kotlin",
   "name": "kotlin"
  },
  "language_info": {
   "name": "kotlin",
   "version": "1.9.0",
   "mimetype": "text/x-kotlin",
   "file_extension": ".kt",
   "pygments_lexer": "kotlin",
   "codemirror_mode": "text/x-kotlin",
   "nbconvert_exporter": ""
  }
 },
 "nbformat": 4,
 "nbformat_minor": 0
}

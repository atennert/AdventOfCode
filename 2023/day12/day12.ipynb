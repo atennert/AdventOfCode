{
 "cells": [
  {
   "cell_type": "markdown",
   "source": [
    "# Day 12: Hot Springs"
   ],
   "metadata": {
    "collapsed": false
   }
  },
  {
   "cell_type": "code",
   "execution_count": null,
   "metadata": {
    "collapsed": true
   },
   "outputs": [],
   "source": [
    "import kotlin.io.path.Path\n",
    "import kotlin.io.path.readLines\n",
    "\n",
    "val springs = Path(\"input.txt\").readLines()\n",
    "    .map {\n",
    "        val (line, operational) = it.split(' ')\n",
    "        line to operational.split(',').map { it.toInt() }\n",
    "    }"
   ]
  },
  {
   "cell_type": "markdown",
   "source": [
    "I originally used the brute force method for part 1, computing and returning every possible combination in a simple function. For part 2, I optimized that using sequences, which made it space efficient but not yet time efficient. My thanks go to Roman Elizarov and his AOC Diary, in which he mentioned memoization. After reading up on memoization and a somewhat sleepless night, here's the final algorithm, computing the sum directly and using memoization to reuse intermediate results."
   ],
   "metadata": {
    "collapsed": false
   }
  },
  {
   "cell_type": "code",
   "execution_count": null,
   "outputs": [],
   "source": [
    "class Counter(val brokenCount: Int, val operationals: Array<Int>, val line: String) {\n",
    "    val memo = Array(line.length + 1) {\n",
    "        Array(brokenCount + 1) {\n",
    "            LongArray(operationals.sum() + 1) { -1 }\n",
    "        }\n",
    "    }\n",
    "    \n",
    "    fun combinations(index: Int, i1: Int, i2: Int): Long {\n",
    "        if (memo[index][i1][i2] != -1L) {\n",
    "            return memo[index][i1][i2]\n",
    "        }\n",
    "        \n",
    "        if (i1 >= brokenCount && i2 >= operationals.size) {\n",
    "            memo[index][i1][i2] = 1\n",
    "            return 1\n",
    "        }\n",
    "        \n",
    "        var sum = 0L\n",
    "        if (i1 < brokenCount && (line[index] == '?' || line[index] == '.')) {\n",
    "            sum += combinations(index + 1, i1 + 1, i2)\n",
    "        }\n",
    "        if (i2 < operationals.size) {\n",
    "            var skip = false\n",
    "            for (i in 0 until operationals[i2]) {\n",
    "                val c = if (i2 > 0 && i == 0) '.' else '#'\n",
    "                if (line[index + i] != '?' && c != line[index + i]) {\n",
    "                    skip = true\n",
    "                }\n",
    "            }\n",
    "            if (!skip) {\n",
    "                sum += combinations(index + operationals[i2], i1, i2 + 1)\n",
    "            }\n",
    "        }\n",
    "        memo[index][i1][i2] = sum\n",
    "        return sum;\n",
    "    }\n",
    "}\n",
    "\n",
    "fun findArrangements(line: String, operational: List<Int>): Long {\n",
    "    val brokenCount = line.length - operational.sum() - (operational.size - 1)\n",
    "    \n",
    "    return Counter(brokenCount,\n",
    "        operational.mapIndexed { i, o -> if (i == 0) o else o + 1 }.toTypedArray(),\n",
    "        line\n",
    "    ).combinations(0, 0, 0)\n",
    "}"
   ],
   "metadata": {
    "collapsed": false
   }
  },
  {
   "cell_type": "markdown",
   "source": [
    "## Part 1"
   ],
   "metadata": {
    "collapsed": false
   }
  },
  {
   "cell_type": "code",
   "execution_count": null,
   "outputs": [],
   "source": [
    "springs.sumOf { (line, operational) -> findArrangements(line, operational) }"
   ],
   "metadata": {
    "collapsed": false
   }
  },
  {
   "cell_type": "markdown",
   "source": [
    "## Part 2"
   ],
   "metadata": {
    "collapsed": false
   }
  },
  {
   "cell_type": "code",
   "execution_count": null,
   "outputs": [],
   "source": [
    "springs\n",
    "    .map { (line, operational) -> List(5) {line}.joinToString(\"?\") to List(5) {operational}.flatten() }\n",
    "    .sumOf { (line, operational) -> findArrangements(line, operational) }"
   ],
   "metadata": {
    "collapsed": false
   }
  }
 ],
 "metadata": {
  "kernelspec": {
   "display_name": "Kotlin",
   "language": "kotlin",
   "name": "kotlin"
  },
  "language_info": {
   "name": "kotlin",
   "version": "1.9.0",
   "mimetype": "text/x-kotlin",
   "file_extension": ".kt",
   "pygments_lexer": "kotlin",
   "codemirror_mode": "text/x-kotlin",
   "nbconvert_exporter": ""
  }
 },
 "nbformat": 4,
 "nbformat_minor": 0
}

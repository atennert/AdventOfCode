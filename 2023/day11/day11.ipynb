{
 "cells": [
  {
   "cell_type": "markdown",
   "source": [
    "# Day 11: Cosmic Expansion"
   ],
   "metadata": {
    "collapsed": false
   }
  },
  {
   "cell_type": "code",
   "execution_count": null,
   "metadata": {
    "collapsed": true
   },
   "outputs": [],
   "source": [
    "import kotlin.io.path.Path\n",
    "import kotlin.io.path.readLines\n",
    "\n",
    "val galaxyMap = Path(\"input.txt\").readLines()"
   ]
  },
  {
   "cell_type": "markdown",
   "source": [
    "Find expandable rows and columns."
   ],
   "metadata": {
    "collapsed": false
   }
  },
  {
   "cell_type": "code",
   "execution_count": null,
   "outputs": [],
   "source": [
    "val columnsToExpand = (0 until galaxyMap[0].length)\n",
    "    .filter { x -> (0 until galaxyMap.size).all { y -> galaxyMap[y][x] == '.' } }"
   ],
   "metadata": {
    "collapsed": false
   }
  },
  {
   "cell_type": "code",
   "execution_count": null,
   "outputs": [],
   "source": [
    "val rowsToExpand = galaxyMap.mapIndexedNotNull { i, row -> if (row.contains('#')) null else i }"
   ],
   "metadata": {
    "collapsed": false
   }
  },
  {
   "cell_type": "markdown",
   "source": [
    "Find galaxies."
   ],
   "metadata": {
    "collapsed": false
   }
  },
  {
   "cell_type": "code",
   "execution_count": null,
   "outputs": [],
   "source": [
    "val galaxies = galaxyMap.flatMapIndexed { y, row ->\n",
    "    row.mapIndexedNotNull { x, c -> if (c == '#') x to y else null }\n",
    "}"
   ],
   "metadata": {
    "collapsed": false
   }
  },
  {
   "cell_type": "markdown",
   "source": [
    "Calculate Manhattan distances including the expansion."
   ],
   "metadata": {
    "collapsed": false
   }
  },
  {
   "cell_type": "code",
   "execution_count": null,
   "outputs": [],
   "source": [
    "fun Int.isBetween(a: Int, b: Int): Boolean {\n",
    "    return if (a < b) {\n",
    "        a < this && this < b\n",
    "    } else {\n",
    "        b < this && this < a\n",
    "    }\n",
    "}"
   ],
   "metadata": {
    "collapsed": false
   }
  },
  {
   "cell_type": "code",
   "execution_count": null,
   "outputs": [],
   "source": [
    "fun distanceWithExpansion(galaxy1: Pair<Int, Int>, galaxy2: Pair<Int, Int>, additional: Long): Long {\n",
    "    val expansion = columnsToExpand.filter { it.isBetween(galaxy1.first, galaxy2.first) }\n",
    "        .plus(rowsToExpand.filter { it.isBetween(galaxy1.second, galaxy2.second) })\n",
    "        .count() * additional\n",
    "    \n",
    "    return abs(galaxy1.first - galaxy2.first) + abs(galaxy1.second - galaxy2.second) + expansion\n",
    "}"
   ],
   "metadata": {
    "collapsed": false
   }
  },
  {
   "cell_type": "code",
   "execution_count": null,
   "outputs": [],
   "source": [
    "fun List<Pair<Int, Int>>.distancesWithExpansionSum(expansion: Long): Long {\n",
    "    return flatMapIndexed { i, galaxy1 ->\n",
    "        drop(i + 1)\n",
    "            .map { galaxy2 -> distanceWithExpansion(galaxy1, galaxy2, expansion) }\n",
    "    }.sum()\n",
    "}"
   ],
   "metadata": {
    "collapsed": false
   }
  },
  {
   "cell_type": "markdown",
   "source": [
    "## Part 1"
   ],
   "metadata": {
    "collapsed": false
   }
  },
  {
   "cell_type": "code",
   "execution_count": null,
   "outputs": [],
   "source": [
    "galaxies.distancesWithExpansionSum(1)"
   ],
   "metadata": {
    "collapsed": false
   }
  },
  {
   "cell_type": "markdown",
   "source": [
    "## Part 2"
   ],
   "metadata": {
    "collapsed": false
   }
  },
  {
   "cell_type": "code",
   "execution_count": null,
   "outputs": [],
   "source": [
    "galaxies.distancesWithExpansionSum(999999)"
   ],
   "metadata": {
    "collapsed": false
   }
  }
 ],
 "metadata": {
  "kernelspec": {
   "display_name": "Kotlin",
   "language": "kotlin",
   "name": "kotlin"
  },
  "language_info": {
   "name": "kotlin",
   "version": "1.9.0",
   "mimetype": "text/x-kotlin",
   "file_extension": ".kt",
   "pygments_lexer": "kotlin",
   "codemirror_mode": "text/x-kotlin",
   "nbconvert_exporter": ""
  }
 },
 "nbformat": 4,
 "nbformat_minor": 0
}

{
 "cells": [
  {
   "cell_type": "code",
   "execution_count": null,
   "metadata": {
    "collapsed": true
   },
   "outputs": [],
   "source": [
    "enum class CubeColor {\n",
    "    RED,\n",
    "    GREEN,\n",
    "    BLUE;\n",
    "    \n",
    "    companion object {\n",
    "        fun fromString(colorString: String): CubeColor = when (colorString) {\n",
    "            \"red\" -> CubeColor.RED\n",
    "            \"green\" -> CubeColor.GREEN\n",
    "            \"blue\" -> CubeColor.BLUE\n",
    "            else -> throw IllegalArgumentException(\"Unknown color string: $colorString\")\n",
    "        }\n",
    "    }\n",
    "}"
   ]
  },
  {
   "cell_type": "code",
   "execution_count": null,
   "outputs": [],
   "source": [
    "fun readInputLine(line: String): Pair<Int, List<List<Pair<CubeColor, Int>>>> {\n",
    "    val (game, rounds) = line.split(\": \")\n",
    "\n",
    "    val gameId = game.split(' ')[1].toInt()\n",
    "    \n",
    "    val gameData = rounds.split(\"; \")\n",
    "        .map { \n",
    "            it.split(\", \")\n",
    "                .map { \n",
    "                    val (number, color) = it.split(' ')\n",
    "                    CubeColor.fromString(color) to number.toInt()\n",
    "                 }\n",
    "        }\n",
    "\n",
    "    return gameId to gameData\n",
    "}"
   ],
   "metadata": {
    "collapsed": false
   }
  },
  {
   "cell_type": "code",
   "execution_count": null,
   "outputs": [],
   "source": [
    "import kotlin.io.path.Path\n",
    "import kotlin.io.path.readLines\n",
    "\n",
    "val maxValues = mapOf(\n",
    "    CubeColor.RED to 12,\n",
    "    CubeColor.GREEN to 13,\n",
    "    CubeColor.BLUE to 14,\n",
    ")\n",
    "\n",
    "Path(\"input.txt\").readLines()\n",
    "    .map(::readInputLine)\n",
    "    .map { (game, gameData) -> game to gameData.flatMap { it } }\n",
    "    .filter { it.second.none { maxValues[it.first]!! < it.second } }\n",
    "    .sumOf { it.first }\n"
   ],
   "metadata": {
    "collapsed": false
   }
  },
  {
   "cell_type": "code",
   "execution_count": null,
   "outputs": [],
   "source": [
    "fun List<List<Pair<CubeColor, Int>>>.colorMax(): Map<CubeColor, Int> {\n",
    "    return this.flatMap { it }\n",
    "        .fold(mutableMapOf<CubeColor, Int>()) { acc, (color, count) ->\n",
    "            acc[color] = max(acc.getOrDefault(color, 0), count)\n",
    "            acc\n",
    "        }\n",
    "}"
   ],
   "metadata": {
    "collapsed": false
   }
  },
  {
   "cell_type": "code",
   "execution_count": null,
   "outputs": [],
   "source": [
    "Path(\"input.txt\").readLines()\n",
    "    .map(::readInputLine)\n",
    "    .map { it.second.colorMax() }\n",
    "    .sumOf { it.values.reduce(Int::times) }"
   ],
   "metadata": {
    "collapsed": false
   }
  }
 ],
 "metadata": {
  "kernelspec": {
   "display_name": "Kotlin",
   "language": "kotlin",
   "name": "kotlin"
  },
  "language_info": {
   "name": "kotlin",
   "version": "1.9.0",
   "mimetype": "text/x-kotlin",
   "file_extension": ".kt",
   "pygments_lexer": "kotlin",
   "codemirror_mode": "text/x-kotlin",
   "nbconvert_exporter": ""
  }
 },
 "nbformat": 4,
 "nbformat_minor": 0
}

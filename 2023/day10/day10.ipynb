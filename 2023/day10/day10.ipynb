{
 "cells": [
  {
   "cell_type": "markdown",
   "source": [
    "# Day 10: Pipe Maze\n",
    "I loved to have the Notebook for this ^^"
   ],
   "metadata": {
    "collapsed": false
   }
  },
  {
   "cell_type": "code",
   "execution_count": null,
   "metadata": {
    "collapsed": true
   },
   "outputs": [],
   "source": [
    "import kotlin.io.path.Path\n",
    "import kotlin.io.path.readLines\n",
    "\n",
    "val pipeMap = Path(\"input.txt\").readLines()"
   ]
  },
  {
   "cell_type": "markdown",
   "source": [
    "## Part 1\n",
    "Obviously we must find the start."
   ],
   "metadata": {
    "collapsed": false
   }
  },
  {
   "cell_type": "code",
   "execution_count": null,
   "outputs": [],
   "source": [
    "fun findStart(): Pair<Int, Int> {\n",
    "    pipeMap.forEachIndexed { y, s ->\n",
    "        if (s.contains('S')) {\n",
    "            return s.indexOf('S') to y\n",
    "        }\n",
    "    }\n",
    "    throw IllegalArgumentException(\"Unable to find starting position\")\n",
    "}\n",
    "\n",
    "val start = findStart()\n",
    "start"
   ],
   "metadata": {
    "collapsed": false
   }
  },
  {
   "cell_type": "markdown",
   "source": [
    "Onwards to finding the whole pipe. Once we have the total length we can divide it by 2 and got the solution.\n",
    "\n",
    "For part 2 I changed what was `getPipeLength` to `getPipe` and returned the pipe segments instead of the length."
   ],
   "metadata": {
    "collapsed": false
   }
  },
  {
   "cell_type": "code",
   "execution_count": null,
   "outputs": [],
   "source": [
    "val elementFilter = mapOf<Char, (Pair<Int, Int>) -> List<Pair<Int, Int>>>(\n",
    "    'S' to { (cx, cy) -> listOf(cx - 1 to cy, cx to cy - 1, cx + 1 to cy, cx to cy + 1) },\n",
    "    '|' to { (cx, cy) -> listOf(cx to cy - 1,cx to cy + 1) },\n",
    "    '-' to { (cx, cy) -> listOf(cx - 1 to cy, cx + 1 to cy) },\n",
    "    'L' to { (cx, cy) -> listOf(cx to cy - 1, cx + 1 to cy) },\n",
    "    'J' to { (cx, cy) -> listOf(cx - 1 to cy, cx to cy - 1) },\n",
    "    '7' to { (cx, cy) -> listOf(cx - 1 to cy, cx to cy + 1) },\n",
    "    'F' to { (cx, cy) -> listOf(cx + 1 to cy, cx to cy + 1) },\n",
    ")\n",
    "\n",
    "fun findNext(current: Pair<Int, Int>, previous: Pair<Int, Int>?): Pair<Int, Int> {\n",
    "    val (cx, cy) = current\n",
    "    return elementFilter[pipeMap[cy][cx]]!!(current)\n",
    "        .filterNot { it == previous }\n",
    "        .filterNot { (x, y) -> x < 0 || y < 0 || x >= pipeMap[0].length || y >= pipeMap.size }\n",
    "        .first { (x, y) ->\n",
    "            x < cx && \"-LFS\".contains(pipeMap[y][x]) ||\n",
    "                    y < cy && \"|7FS\".contains(pipeMap[y][x]) ||\n",
    "                    x > cx && \"-J7S\".contains(pipeMap[y][x]) ||\n",
    "                    y > cy && \"|LJS\".contains(pipeMap[y][x])\n",
    "        }\n",
    "}\n",
    "\n",
    "fun getPipe(start: Pair<Int, Int>): List<Pair<Int, Int>> {\n",
    "    var position = start\n",
    "    var previousPosition: Pair<Int, Int>? = null\n",
    "    var pipe = mutableListOf<Pair<Int, Int>>()\n",
    "    do {\n",
    "        var tmp = position\n",
    "        position = findNext(position, previousPosition)\n",
    "        previousPosition = tmp\n",
    "        pipe.add(position)\n",
    "    } while (position != start)\n",
    "    \n",
    "    return pipe\n",
    "}\n",
    "\n",
    "val pipe = getPipe(start)\n",
    "\n",
    "pipe.size / 2"
   ],
   "metadata": {
    "collapsed": false
   }
  },
  {
   "cell_type": "markdown",
   "source": [
    "## Part 2\n",
    "We need to find out what is *inside* the pipe and what not. I'm checking for a left-most element ..."
   ],
   "metadata": {
    "collapsed": false
   }
  },
  {
   "cell_type": "code",
   "execution_count": null,
   "outputs": [],
   "source": [
    "var (lowXX, lowXY) = pipe.filterNot { it == start }.reduce { a, b -> if (a.first < b.first) a else b }\n",
    "lowXX to lowXY"
   ],
   "metadata": {
    "collapsed": false
   }
  },
  {
   "cell_type": "markdown",
   "source": [
    "Then what's on the right side of that element must be inside. So we get the first inside."
   ],
   "metadata": {
    "collapsed": false
   }
  },
  {
   "cell_type": "code",
   "execution_count": null,
   "outputs": [],
   "source": [
    "val inside = when (pipeMap[lowXY][lowXX]) {\n",
    "    'F' -> lowXX + 1 to lowXY + 1\n",
    "    '|' -> lowXX + 1 to lowXY\n",
    "    'L' -> lowXX + 1 to lowXY - 1\n",
    "    else -> throw IllegalArgumentException(\"Wrong low x pipe element ${pipeMap[lowXY][lowXX]}\")\n",
    "}\n",
    "inside"
   ],
   "metadata": {
    "collapsed": false
   }
  },
  {
   "cell_type": "markdown",
   "source": [
    "Next I want to go all the way around the pipe again, starting with the left-most element we found. For that purpose I will replace the `'S'` with the element that it stands for, so the algorithm doesn't stumble.\n",
    "\n",
    "**Careful:** This does not check whether it's accessing coordinates outside the map. (I simply added a line of dots in the puzzle input in case of a NPE.)"
   ],
   "metadata": {
    "collapsed": false
   }
  },
  {
   "cell_type": "code",
   "execution_count": null,
   "outputs": [],
   "source": [
    "val (startX, startY) = start\n",
    "val startElement = when {\n",
    "    \"-LF\".contains(pipeMap[startY][startX-1]) && \"|7F\".contains(pipeMap[startY-1][startX]) -> 'J'\n",
    "    \"-LF\".contains(pipeMap[startY][startX-1]) && \"-J7\".contains(pipeMap[startY][startX+1]) -> '-'\n",
    "    \"-LF\".contains(pipeMap[startY][startX-1]) && \"|LJ\".contains(pipeMap[startY+1][startX]) -> '7'\n",
    "    \"|7F\".contains(pipeMap[startY-1][startX]) && \"-J7\".contains(pipeMap[startY][startX+1]) -> 'L'\n",
    "    \"|7F\".contains(pipeMap[startY-1][startX]) && \"|LJ\".contains(pipeMap[startY+1][startX]) -> '|'\n",
    "    \"-J7\".contains(pipeMap[startY][startX+1]) && \"|LJ\".contains(pipeMap[startY+1][startX]) -> 'F'\n",
    "    else -> throw IllegalArgumentException(\"WHAAAAT\")\n",
    "}\n",
    "startElement"
   ],
   "metadata": {
    "collapsed": false
   }
  },
  {
   "cell_type": "markdown",
   "source": [
    "The next finds inner tiles along the pipe."
   ],
   "metadata": {
    "collapsed": false
   }
  },
  {
   "cell_type": "code",
   "execution_count": null,
   "outputs": [],
   "source": [
    "// gives the options for both sides of the pipe. The following function need to determine which one is correct.\n",
    "val insideFilter = mapOf<Char, (Pair<Int, Int>) -> List<List<Pair<Int, Int>>>>(\n",
    "    '|' to { (cx, cy) -> listOf(listOf(cx - 1 to cy), listOf(cx + 1 to cy)) },\n",
    "    '-' to { (cx, cy) -> listOf(listOf(cx to cy - 1), listOf(cx to cy + 1)) },\n",
    "    'L' to { (cx, cy) -> listOf(listOf(cx + 1 to cy - 1), listOf(cx - 1 to cy, cx - 1 to cy + 1, cx to cy + 1)) },\n",
    "    '7' to { (cx, cy) -> listOf(listOf(cx - 1 to cy + 1), listOf(cx to cy - 1, cx + 1 to cy - 1, cx + 1 to cy)) },\n",
    "    'J' to { (cx, cy) -> listOf(listOf(cx - 1 to cy - 1), listOf(cx + 1 to cy, cx + 1 to cy + 1, cx to cy + 1)) },\n",
    "    'F' to { (cx, cy) -> listOf(listOf(cx + 1 to cy + 1), listOf(cx - 1 to cy, cx - 1 to cy - 1, cx to cy - 1)) },\n",
    ")\n",
    "\n",
    "fun findInnerTiles(start: Pair<Int, Int>, inside: Pair<Int, Int>): Set<Pair<Int, Int>> {\n",
    "    val startIndex = pipe.indexOf(start)\n",
    "    return pipe.drop(startIndex).plus(pipe.take(startIndex))\n",
    "        .asSequence()\n",
    "        .windowed(2)\n",
    "        .fold(mutableListOf(inside)) { insides, (p1, p2) ->\n",
    "            val (p1x, p1y) = p1\n",
    "            val (p2x, p2y) = p2\n",
    "            val lastInsides = insides.takeLast(3)\n",
    "            val c = if (pipeMap[p2y][p2x] == 'S') startElement else pipeMap[p2y][p2x]\n",
    "            val insideOptions = insideFilter[c]!!(p2)\n",
    "            insides.addAll(when {\n",
    "                p2y == p1y -> insideOptions.first { l -> l.any { (_,y) -> lastInsides.map { it.second }.contains(y) } }\n",
    "                p2x == p1x -> insideOptions.first { l -> l.any { (x) -> lastInsides.map { it.first }.contains(x) } }\n",
    "                else -> throw IllegalArgumentException(\"couldn't find inner element\")\n",
    "            })\n",
    "            insides\n",
    "        }\n",
    "        .filterNot { pipe.contains(it) }\n",
    "        .toSet()\n",
    "}\n",
    "\n",
    "val initialInnerTiles = findInnerTiles(lowXX to lowXY, inside)\n",
    "initialInnerTiles.size"
   ],
   "metadata": {
    "collapsed": false
   }
  },
  {
   "cell_type": "markdown",
   "source": [
    "Of course, that's not all inner tiles. There some tiles more inside. The following piece of code finds those tiles as well by recursively checking all neighboring tiles of the inside tiles that have been found."
   ],
   "metadata": {
    "collapsed": false
   }
  },
  {
   "cell_type": "code",
   "execution_count": null,
   "outputs": [],
   "source": [
    "val allInnerTiles = mutableSetOf<Pair<Int, Int>>()\n",
    "fun checkAllTiles(start: Pair<Int, Int>) {\n",
    "    if (allInnerTiles.contains(start)) {\n",
    "        return\n",
    "    }\n",
    "    \n",
    "    allInnerTiles.add(start)\n",
    "    val (x, y) = start\n",
    "    listOf(x-1 to y, x to y-1, x+1 to y, x to y+1)\n",
    "        .filterNot { pipe.contains(it) }\n",
    "        .forEach { checkAllTiles(it) }\n",
    "}\n",
    "for (tile in initialInnerTiles) {\n",
    "    checkAllTiles(tile)\n",
    "}\n",
    "allInnerTiles.size"
   ],
   "metadata": {
    "collapsed": false
   }
  }
 ],
 "metadata": {
  "kernelspec": {
   "display_name": "Kotlin",
   "language": "kotlin",
   "name": "kotlin"
  },
  "language_info": {
   "name": "kotlin",
   "version": "1.9.0",
   "mimetype": "text/x-kotlin",
   "file_extension": ".kt",
   "pygments_lexer": "kotlin",
   "codemirror_mode": "text/x-kotlin",
   "nbconvert_exporter": ""
  }
 },
 "nbformat": 4,
 "nbformat_minor": 0
}

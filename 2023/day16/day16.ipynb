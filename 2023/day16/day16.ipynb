{
 "cells": [
  {
   "cell_type": "markdown",
   "source": [
    "# Day 16: The Floor Will Be Lava"
   ],
   "metadata": {
    "collapsed": false
   }
  },
  {
   "cell_type": "code",
   "execution_count": null,
   "metadata": {
    "collapsed": true
   },
   "outputs": [],
   "source": [
    "import kotlin.io.path.Path\n",
    "import kotlin.io.path.readLines\n",
    "\n",
    "val tiles = Path(\"input.txt\").readLines()\n",
    "    .map { it.toCharArray() }\n",
    "    .toTypedArray()"
   ]
  },
  {
   "cell_type": "code",
   "execution_count": null,
   "outputs": [],
   "source": [
    "enum class Direction {\n",
    "    UP,\n",
    "    DOWN,\n",
    "    LEFT,\n",
    "    RIGHT,\n",
    "}"
   ],
   "metadata": {
    "collapsed": false
   }
  },
  {
   "cell_type": "code",
   "execution_count": null,
   "outputs": [],
   "source": [
    "var tileBeams = mutableMapOf<Pair<Int, Int>, MutableSet<Direction>>()\n",
    "\n",
    "fun runBeam(x: Int, y: Int, direction: Direction) {\n",
    "    if (y >= tiles.size || y < 0 || x >= tiles[0].size || x < 0) {\n",
    "        return\n",
    "    }\n",
    "    if (tileBeams.containsKey(x to y) && tileBeams[x to y]!!.contains(direction)) {\n",
    "        return\n",
    "    }\n",
    "    if (!tileBeams.containsKey(x to y)) {\n",
    "        tileBeams[x to y] = mutableSetOf()\n",
    "    }\n",
    "    tileBeams[x to y]!!.add(direction)\n",
    "    when (tiles[y][x]) {\n",
    "        '.' -> when (direction) {\n",
    "            Direction.UP -> runBeam(x, y - 1, direction)\n",
    "            Direction.DOWN -> runBeam(x, y + 1, direction)\n",
    "            Direction.LEFT -> runBeam(x - 1, y, direction)\n",
    "            Direction.RIGHT -> runBeam(x + 1, y, direction)\n",
    "        }\n",
    "        '/' -> when (direction) {\n",
    "            Direction.UP -> runBeam(x + 1, y, Direction.RIGHT)\n",
    "            Direction.DOWN -> runBeam(x - 1, y, Direction.LEFT)\n",
    "            Direction.LEFT -> runBeam(x, y + 1, Direction.DOWN)\n",
    "            Direction.RIGHT -> runBeam(x, y - 1, Direction.UP)\n",
    "        }\n",
    "        '\\\\' -> when (direction) {\n",
    "            Direction.UP -> runBeam(x - 1, y, Direction.LEFT)\n",
    "            Direction.DOWN -> runBeam(x + 1, y, Direction.RIGHT)\n",
    "            Direction.LEFT -> runBeam(x, y - 1, Direction.UP)\n",
    "            Direction.RIGHT -> runBeam(x, y + 1, Direction.DOWN)\n",
    "        }\n",
    "        '|' -> when (direction) {\n",
    "            Direction.UP -> runBeam(x, y - 1, direction)\n",
    "            Direction.DOWN -> runBeam(x, y + 1, direction)\n",
    "            Direction.LEFT,\n",
    "            Direction.RIGHT  -> {\n",
    "                runBeam(x, y - 1, Direction.UP)\n",
    "                runBeam(x, y + 1, Direction.DOWN)\n",
    "            }\n",
    "        }\n",
    "        '-' -> when (direction) {\n",
    "            Direction.UP,\n",
    "            Direction.DOWN -> {\n",
    "                runBeam(x - 1, y, Direction.LEFT)\n",
    "                runBeam(x + 1, y, Direction.RIGHT)\n",
    "            }\n",
    "            Direction.LEFT -> runBeam(x - 1, y, direction)\n",
    "            Direction.RIGHT -> runBeam(x + 1, y, direction)\n",
    "        }\n",
    "    }\n",
    "}"
   ],
   "metadata": {
    "collapsed": false
   }
  },
  {
   "cell_type": "markdown",
   "source": [
    "## Part 1"
   ],
   "metadata": {
    "collapsed": false
   }
  },
  {
   "cell_type": "code",
   "execution_count": null,
   "outputs": [],
   "source": [
    "runBeam(0, 0, Direction.RIGHT)\n",
    "\n",
    "tileBeams.size"
   ],
   "metadata": {
    "collapsed": false
   }
  },
  {
   "cell_type": "markdown",
   "source": [
    "## Part 2"
   ],
   "metadata": {
    "collapsed": false
   }
  },
  {
   "cell_type": "code",
   "execution_count": null,
   "outputs": [],
   "source": [
    "var maxTiles = 0\n",
    "for (x in 0 until tiles[0].size) {\n",
    "    tileBeams = mutableMapOf<Pair<Int, Int>, MutableSet<Direction>>()\n",
    "    runBeam(x, 0, Direction.DOWN)\n",
    "    maxTiles = max(maxTiles, tileBeams.size)\n",
    "}\n",
    "for (x in 0 until tiles[0].size) {\n",
    "    tileBeams = mutableMapOf<Pair<Int, Int>, MutableSet<Direction>>()\n",
    "    runBeam(x, tileBeams.size - 1, Direction.UP)\n",
    "    maxTiles = max(maxTiles, tileBeams.size)\n",
    "}\n",
    "for (y in 0 until tiles.size) {\n",
    "    tileBeams = mutableMapOf<Pair<Int, Int>, MutableSet<Direction>>()\n",
    "    runBeam(0, y, Direction.RIGHT)\n",
    "    maxTiles = max(maxTiles, tileBeams.size)\n",
    "}\n",
    "for (y in 0 until tiles.size) {\n",
    "    tileBeams = mutableMapOf<Pair<Int, Int>, MutableSet<Direction>>()\n",
    "    runBeam(tiles[0].size - 1, y, Direction.LEFT)\n",
    "    maxTiles = max(maxTiles, tileBeams.size)\n",
    "}\n",
    "\n",
    "maxTiles"
   ],
   "metadata": {
    "collapsed": false
   }
  }
 ],
 "metadata": {
  "kernelspec": {
   "display_name": "Kotlin",
   "language": "kotlin",
   "name": "kotlin"
  },
  "language_info": {
   "name": "kotlin",
   "version": "1.9.0",
   "mimetype": "text/x-kotlin",
   "file_extension": ".kt",
   "pygments_lexer": "kotlin",
   "codemirror_mode": "text/x-kotlin",
   "nbconvert_exporter": ""
  }
 },
 "nbformat": 4,
 "nbformat_minor": 0
}
